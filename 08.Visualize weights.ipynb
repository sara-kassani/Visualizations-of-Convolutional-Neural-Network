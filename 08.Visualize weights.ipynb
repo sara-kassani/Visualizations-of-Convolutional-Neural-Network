{
 "cells": [
  {
   "cell_type": "code",
   "execution_count": 1,
   "metadata": {},
   "outputs": [
    {
     "name": "stderr",
     "output_type": "stream",
     "text": [
      "/home/sara/anaconda3/lib/python3.6/importlib/_bootstrap.py:219: RuntimeWarning: numpy.dtype size changed, may indicate binary incompatibility. Expected 96, got 88\n",
      "  return f(*args, **kwds)\n",
      "/home/sara/anaconda3/lib/python3.6/site-packages/h5py/__init__.py:36: FutureWarning: Conversion of the second argument of issubdtype from `float` to `np.floating` is deprecated. In future, it will be treated as `np.float64 == np.dtype(float).type`.\n",
      "  from ._conv import register_converters as _register_converters\n",
      "/home/sara/anaconda3/lib/python3.6/importlib/_bootstrap.py:219: RuntimeWarning: numpy.dtype size changed, may indicate binary incompatibility. Expected 96, got 88\n",
      "  return f(*args, **kwds)\n",
      "/home/sara/anaconda3/lib/python3.6/importlib/_bootstrap.py:219: RuntimeWarning: numpy.dtype size changed, may indicate binary incompatibility. Expected 96, got 88\n",
      "  return f(*args, **kwds)\n",
      "/home/sara/anaconda3/lib/python3.6/importlib/_bootstrap.py:219: RuntimeWarning: numpy.dtype size changed, may indicate binary incompatibility. Expected 96, got 88\n",
      "  return f(*args, **kwds)\n",
      "/home/sara/anaconda3/lib/python3.6/importlib/_bootstrap.py:219: RuntimeWarning: numpy.dtype size changed, may indicate binary incompatibility. Expected 96, got 88\n",
      "  return f(*args, **kwds)\n"
     ]
    }
   ],
   "source": [
    "import numpy as np\n",
    "import matplotlib.pyplot as plt\n",
    "\n",
    "import tensorflow as tf\n",
    "from tensorflow.python import keras\n",
    "from tensorflow.python.keras import models, layers\n",
    "from tensorflow.python.keras.models import Sequential\n",
    "from tensorflow.python.keras.layers import Dense, Dropout, Flatten, Conv2D, MaxPooling2D, BatchNormalization\n",
    "from tensorflow.python.keras.applications import VGG16\n",
    "from tensorflow.python.keras.preprocessing.image import ImageDataGenerator\n",
    "from sklearn.metrics import classification_report, accuracy_score, roc_auc_score \n",
    "\n",
    "from PIL import Image\n",
    "import glob"
   ]
  },
  {
   "cell_type": "code",
   "execution_count": 2,
   "metadata": {},
   "outputs": [],
   "source": [
    "\n",
    "\n",
    "#Loops through ImageDataGenerator and grabs true labels and predictions\n",
    "#and reports metrics with classification_report method\n",
    "def predict_and_report(gen, model):\n",
    "    y_true = []\n",
    "    y_pred = []\n",
    "    gen.reset()\n",
    "    for img, label in gen:\n",
    "        #get true labels for batch and store them\n",
    "        y_true.extend([int(z[1]) for z in label])\n",
    "        #Get predictions as probabilities\n",
    "        batch_pred = model.predict_on_batch(img)\n",
    "        #turn probabilities to class labels and store\n",
    "        batch_pred = np.argmax(batch_pred, axis=1)\n",
    "        y_pred.extend(batch_pred)\n",
    "        #break loop\n",
    "        if gen.batch_index == 0:\n",
    "            break\n",
    "            \n",
    "    print('Accuracy:', accuracy_score(y_true, y_pred))\n",
    "    print('Area Under the Receiver Operating Characteristic Curve:', roc_auc_score(y_true, y_pred)) #Area under the curve\n",
    "    print(classification_report(y_true, y_pred))\n",
    "\n"
   ]
  },
  {
   "cell_type": "code",
   "execution_count": 3,
   "metadata": {},
   "outputs": [],
   "source": [
    "train_dir = 'data/chest_xray/train'\n",
    "valid_dir = 'data/chest_xray/validation'\n",
    "test_dir = 'data/chest_xray/test'"
   ]
  },
  {
   "cell_type": "code",
   "execution_count": 4,
   "metadata": {},
   "outputs": [],
   "source": [
    "img_width, img_height = 75, 75\n",
    "batch_size = 16\n",
    "num_epochs = 1\n",
    "filter_size = (3, 3)\n",
    "pool_size = (2, 2)\n",
    "drop_out_dense = 0.5\n",
    "drop_out_conv = 0.25\n",
    "padding = 'same'\n",
    "#learning_rate = 0.02\n",
    "#decay = learning_rate / (num_epochs - 1)"
   ]
  },
  {
   "cell_type": "code",
   "execution_count": 5,
   "metadata": {},
   "outputs": [
    {
     "name": "stdout",
     "output_type": "stream",
     "text": [
      "Found 5216 images belonging to 2 classes.\n"
     ]
    }
   ],
   "source": [
    "train_datagen = ImageDataGenerator(\n",
    "    rescale=1. / 255,\n",
    "    shear_range=0.2,\n",
    "    zoom_range=0.2,\n",
    "    horizontal_flip=True,\n",
    "    vertical_flip=True)\n",
    "\n",
    "train_generator = train_datagen.flow_from_directory(\n",
    "    train_dir,\n",
    "    target_size=(img_height, img_width),\n",
    "    batch_size=batch_size,\n",
    "    class_mode='categorical',\n",
    "    color_mode='grayscale')"
   ]
  },
  {
   "cell_type": "code",
   "execution_count": 6,
   "metadata": {},
   "outputs": [
    {
     "name": "stdout",
     "output_type": "stream",
     "text": [
      "Found 16 images belonging to 2 classes.\n"
     ]
    }
   ],
   "source": [
    "validation_datagen = ImageDataGenerator(\n",
    "    rescale=1. / 255,\n",
    "    shear_range=0.2,\n",
    "    zoom_range=0.2,\n",
    "    horizontal_flip=True,\n",
    "    vertical_flip=True)\n",
    "validation_generator = validation_datagen.flow_from_directory(\n",
    "    valid_dir,\n",
    "    target_size=(img_height, img_width),\n",
    "    batch_size=batch_size,\n",
    "    class_mode='categorical',\n",
    "    color_mode='grayscale')"
   ]
  },
  {
   "cell_type": "code",
   "execution_count": 7,
   "metadata": {},
   "outputs": [
    {
     "name": "stdout",
     "output_type": "stream",
     "text": [
      "Found 624 images belonging to 2 classes.\n"
     ]
    }
   ],
   "source": [
    "test_datagen = ImageDataGenerator(rescale=1. / 255)\n",
    "test_generator = test_datagen.flow_from_directory(\n",
    "    test_dir,\n",
    "    target_size=(img_height, img_width),\n",
    "    batch_size=batch_size,\n",
    "    class_mode='categorical',\n",
    "    color_mode='grayscale')\n"
   ]
  },
  {
   "cell_type": "code",
   "execution_count": 8,
   "metadata": {},
   "outputs": [
    {
     "name": "stdout",
     "output_type": "stream",
     "text": [
      "_________________________________________________________________\n",
      "Layer (type)                 Output Shape              Param #   \n",
      "=================================================================\n",
      "conv2d (Conv2D)              (None, 75, 75, 32)        320       \n",
      "_________________________________________________________________\n",
      "conv2d_1 (Conv2D)            (None, 75, 75, 32)        9248      \n",
      "_________________________________________________________________\n",
      "max_pooling2d (MaxPooling2D) (None, 37, 37, 32)        0         \n",
      "_________________________________________________________________\n",
      "dropout (Dropout)            (None, 37, 37, 32)        0         \n",
      "_________________________________________________________________\n",
      "conv2d_2 (Conv2D)            (None, 37, 37, 64)        18496     \n",
      "_________________________________________________________________\n",
      "conv2d_3 (Conv2D)            (None, 37, 37, 64)        36928     \n",
      "_________________________________________________________________\n",
      "max_pooling2d_1 (MaxPooling2 (None, 18, 18, 64)        0         \n",
      "_________________________________________________________________\n",
      "dropout_1 (Dropout)          (None, 18, 18, 64)        0         \n",
      "_________________________________________________________________\n",
      "conv2d_4 (Conv2D)            (None, 18, 18, 96)        55392     \n",
      "_________________________________________________________________\n",
      "conv2d_5 (Conv2D)            (None, 18, 18, 96)        83040     \n",
      "_________________________________________________________________\n",
      "max_pooling2d_2 (MaxPooling2 (None, 9, 9, 96)          0         \n",
      "_________________________________________________________________\n",
      "dropout_2 (Dropout)          (None, 9, 9, 96)          0         \n",
      "_________________________________________________________________\n",
      "conv2d_6 (Conv2D)            (None, 9, 9, 128)         110720    \n",
      "_________________________________________________________________\n",
      "conv2d_7 (Conv2D)            (None, 9, 9, 128)         147584    \n",
      "_________________________________________________________________\n",
      "max_pooling2d_3 (MaxPooling2 (None, 4, 4, 128)         0         \n",
      "_________________________________________________________________\n",
      "dropout_3 (Dropout)          (None, 4, 4, 128)         0         \n",
      "_________________________________________________________________\n",
      "flatten (Flatten)            (None, 2048)              0         \n",
      "_________________________________________________________________\n",
      "dense (Dense)                (None, 512)               1049088   \n",
      "_________________________________________________________________\n",
      "dropout_4 (Dropout)          (None, 512)               0         \n",
      "_________________________________________________________________\n",
      "dense_1 (Dense)              (None, 128)               65664     \n",
      "_________________________________________________________________\n",
      "dropout_5 (Dropout)          (None, 128)               0         \n",
      "_________________________________________________________________\n",
      "dense_2 (Dense)              (None, 2)                 258       \n",
      "=================================================================\n",
      "Total params: 1,576,738\n",
      "Trainable params: 1,576,738\n",
      "Non-trainable params: 0\n",
      "_________________________________________________________________\n"
     ]
    }
   ],
   "source": [
    "model = Sequential()\n",
    "\n",
    "model.add(Conv2D(32, kernel_size=filter_size, activation='relu', input_shape=(img_width, img_height, 1), padding=padding))\n",
    "model.add(Conv2D(32, kernel_size=filter_size, activation='relu', padding=padding))\n",
    "model.add(MaxPooling2D(pool_size=pool_size))\n",
    "model.add(Dropout(drop_out_conv))\n",
    "\n",
    "model.add(Conv2D(64, kernel_size=filter_size, activation='relu', padding=padding))\n",
    "model.add(Conv2D(64, kernel_size=filter_size, activation='relu', padding=padding))\n",
    "model.add(MaxPooling2D(pool_size=pool_size))\n",
    "model.add(Dropout(drop_out_conv))\n",
    "\n",
    "model.add(Conv2D(96, kernel_size=filter_size, activation='relu', padding=padding))\n",
    "model.add(Conv2D(96, kernel_size=filter_size, activation='relu', padding=padding))\n",
    "model.add(MaxPooling2D(pool_size=pool_size))\n",
    "model.add(Dropout(drop_out_conv))\n",
    "\n",
    "model.add(Conv2D(128, kernel_size=filter_size, activation='relu', padding=padding))\n",
    "model.add(Conv2D(128, kernel_size=filter_size, activation='relu', padding=padding))\n",
    "model.add(MaxPooling2D(pool_size=pool_size))\n",
    "model.add(Dropout(drop_out_conv))\n",
    "\n",
    "model.add(Flatten())\n",
    "model.add(Dense(512, activation='relu'))\n",
    "model.add(Dropout(drop_out_dense))\n",
    "model.add(Dense(128, activation='relu'))\n",
    "model.add(Dropout(drop_out_dense))\n",
    "model.add(layers.Dense(2, activation='softmax'))\n",
    "\n",
    "model.summary()"
   ]
  },
  {
   "cell_type": "code",
   "execution_count": 9,
   "metadata": {},
   "outputs": [
    {
     "name": "stdout",
     "output_type": "stream",
     "text": [
      "Epoch 1/1\n",
      "326/326 [==============================] - 151s 464ms/step - loss: 0.5828 - acc: 0.7433 - val_loss: 0.7872 - val_acc: 0.5000\n"
     ]
    }
   ],
   "source": [
    "SGD = keras.optimizers.SGD(lr = 0.02, decay=75e-6, momentum=0.9, nesterov=True)\n",
    "\n",
    "model.compile(loss='categorical_crossentropy',\n",
    "              optimizer='sgd',\n",
    "              metrics=['accuracy'])\n",
    "\n",
    "result = model.fit_generator(\n",
    "            train_generator,\n",
    "            epochs=num_epochs,\n",
    "            verbose = 1,\n",
    "            #class_weight= {0:.40, 1:.60},\n",
    "            validation_data = validation_generator)"
   ]
  },
  {
   "cell_type": "code",
   "execution_count": 10,
   "metadata": {},
   "outputs": [
    {
     "name": "stdout",
     "output_type": "stream",
     "text": [
      "Test Score:  0.6815625840425491\n",
      "Test Accuracy:  0.6225\n"
     ]
    }
   ],
   "source": [
    "score = model.evaluate_generator(test_generator, steps=50)\n",
    "\n",
    "print ('Test Score: ', score[0])\n",
    "print ('Test Accuracy: ',score[1])"
   ]
  },
  {
   "cell_type": "code",
   "execution_count": 11,
   "metadata": {},
   "outputs": [],
   "source": [
    "filename = validation_generator.filenames\n",
    "truth = validation_generator.classes\n",
    "label = validation_generator.class_indices\n",
    "indexlabel = dict((value, key) for key, value in label.items())"
   ]
  },
  {
   "cell_type": "code",
   "execution_count": 12,
   "metadata": {},
   "outputs": [
    {
     "name": "stdout",
     "output_type": "stream",
     "text": [
      "1/1 [==============================] - 0s 385ms/step\n",
      "No of errors = 8/16\n"
     ]
    }
   ],
   "source": [
    "predicts = model.predict_generator(validation_generator, steps=validation_generator.samples/validation_generator.batch_size, verbose=1)\n",
    "predict_class = np.argmax(predicts, axis=1)\n",
    "errors = np.where(predict_class != truth)[0]\n",
    "print(\"No of errors = {}/{}\".format(len(errors),validation_generator.samples))"
   ]
  },
  {
   "cell_type": "code",
   "execution_count": null,
   "metadata": {},
   "outputs": [],
   "source": [
    "import cv2\n",
    "from random import randint\n",
    "\n",
    "\n",
    "test_image = cv2.imread('data/chest_xray/test/NORMAL/IM-0001-0001.jpeg')"
   ]
  },
  {
   "cell_type": "code",
   "execution_count": null,
   "metadata": {},
   "outputs": [],
   "source": [
    "print(plt.imshow(test_image))"
   ]
  },
  {
   "cell_type": "code",
   "execution_count": null,
   "metadata": {},
   "outputs": [],
   "source": [
    "# test_image = cv2.cvtColor(test_image, cv2.COLOR_BGR2GRAY)\n",
    "test_image = cv2.resize(test_image, (img_height, img_width))\n",
    "test_image = np.array(test_image)\n",
    "test_image = test_image.astype('float32')\n",
    "test_image /= 255"
   ]
  },
  {
   "cell_type": "code",
   "execution_count": null,
   "metadata": {},
   "outputs": [],
   "source": [
    "print(test_image.shape)"
   ]
  },
  {
   "cell_type": "code",
   "execution_count": null,
   "metadata": {},
   "outputs": [],
   "source": [
    "print(plt.imshow(test_image))"
   ]
  },
  {
   "cell_type": "code",
   "execution_count": null,
   "metadata": {},
   "outputs": [],
   "source": [
    "test_image = np.expand_dims(test_image, axis=3)\n",
    "test_image = np.expand_dims(test_image, axis=0)\n",
    "print (test_image.shape)"
   ]
  },
  {
   "cell_type": "code",
   "execution_count": null,
   "metadata": {},
   "outputs": [],
   "source": [
    "print((model.predict(test_image)))"
   ]
  },
  {
   "cell_type": "code",
   "execution_count": null,
   "metadata": {},
   "outputs": [],
   "source": [
    "print(model.predict_classes(test_image))"
   ]
  },
  {
   "cell_type": "code",
   "execution_count": null,
   "metadata": {},
   "outputs": [],
   "source": []
  },
  {
   "cell_type": "code",
   "execution_count": 32,
   "metadata": {},
   "outputs": [],
   "source": [
    "weights = model.get_weights()[0]\n",
    "layer_weight=[]\n",
    "for weight in weights:\n",
    "    layer_weight.append(weight)"
   ]
  },
  {
   "cell_type": "code",
   "execution_count": 33,
   "metadata": {},
   "outputs": [
    {
     "data": {
      "text/plain": [
       "array([[[[ 0.07501085,  0.06529691, -0.06626766,  0.0378916 ,\n",
       "           0.04472608,  0.10504219,  0.0585599 ,  0.14275585,\n",
       "           0.14296044,  0.13622016,  0.01352376,  0.06977373,\n",
       "          -0.08111636,  0.13069749,  0.06765175,  0.03068298,\n",
       "          -0.14023787, -0.12862077,  0.01417797,  0.01318771,\n",
       "          -0.10611198,  0.08634435, -0.11377233, -0.14133646,\n",
       "          -0.0530465 ,  0.114983  , -0.00073535,  0.0571212 ,\n",
       "          -0.1153435 , -0.07348096, -0.05622436, -0.08317913]],\n",
       "\n",
       "        [[-0.04436992, -0.04884908, -0.13227817, -0.02455668,\n",
       "          -0.02540145,  0.11012945,  0.04606213, -0.13209406,\n",
       "           0.07763628, -0.11228511, -0.0736466 , -0.09169076,\n",
       "          -0.08205926, -0.13088427, -0.06539575, -0.13184099,\n",
       "           0.02041699, -0.05654549,  0.03751272, -0.12383703,\n",
       "          -0.01655298,  0.05094901, -0.10240412,  0.11740635,\n",
       "          -0.0442507 ,  0.03436581, -0.07357156, -0.01802601,\n",
       "           0.09440172, -0.11557369,  0.06093106, -0.04507881]],\n",
       "\n",
       "        [[-0.10195598,  0.13297765, -0.09155127, -0.07558095,\n",
       "          -0.11510905, -0.07205586,  0.10781839, -0.05853751,\n",
       "          -0.03722464,  0.01487166,  0.01921887, -0.10835282,\n",
       "          -0.11160957,  0.09777007,  0.0476815 ,  0.12979817,\n",
       "          -0.01091283, -0.00059039,  0.11447661, -0.12549563,\n",
       "           0.07868528, -0.11615396, -0.03282647, -0.05012197,\n",
       "          -0.13818945, -0.05990601,  0.02353675, -0.09554774,\n",
       "           0.13671389,  0.02199303,  0.12744424,  0.01673802]]],\n",
       "\n",
       "\n",
       "       [[[ 0.07745181,  0.07937696, -0.05143807, -0.12992847,\n",
       "           0.01523212,  0.00543497, -0.07619864, -0.13720183,\n",
       "           0.07241593,  0.11872604, -0.07084553,  0.03201931,\n",
       "           0.04167458,  0.02726714,  0.12703276,  0.09488609,\n",
       "           0.06184216, -0.04341455,  0.05734899, -0.00682472,\n",
       "           0.06153909, -0.10746612,  0.02745833, -0.04782395,\n",
       "           0.09306103, -0.06511071,  0.01024018,  0.08456554,\n",
       "          -0.01662676,  0.08822235, -0.11289819, -0.06604025]],\n",
       "\n",
       "        [[-0.10488113, -0.07028325, -0.01306754, -0.00599275,\n",
       "          -0.11921759, -0.04705687,  0.11093334, -0.07819709,\n",
       "          -0.04371156, -0.07712412, -0.13803154,  0.01959802,\n",
       "           0.11928736, -0.11798619,  0.00313016,  0.04186598,\n",
       "           0.02186559,  0.06382652,  0.13285732,  0.13561484,\n",
       "           0.11957406, -0.00121982,  0.13892688, -0.12523031,\n",
       "           0.09465569,  0.04454848,  0.00191323, -0.08128703,\n",
       "          -0.05621949,  0.05044515,  0.03188493, -0.04190478]],\n",
       "\n",
       "        [[-0.13223498, -0.12639675,  0.06537346,  0.00656259,\n",
       "          -0.10475502, -0.13258736, -0.0887145 ,  0.12660193,\n",
       "           0.04223282,  0.00473967, -0.06629501, -0.10326804,\n",
       "          -0.03792829, -0.08709759,  0.05246419, -0.13993217,\n",
       "           0.00795902,  0.10956053,  0.13312617, -0.1345669 ,\n",
       "          -0.08571132, -0.07699196,  0.03213035,  0.00476695,\n",
       "          -0.0323499 , -0.086655  ,  0.00548205,  0.10162482,\n",
       "           0.04073206, -0.08582263,  0.07216913, -0.05476442]]],\n",
       "\n",
       "\n",
       "       [[[ 0.10794408,  0.06444775, -0.09082941, -0.04947922,\n",
       "          -0.11869456,  0.0165724 ,  0.07126939, -0.10690378,\n",
       "           0.09448197, -0.08139319,  0.02112831,  0.0784084 ,\n",
       "           0.06398289,  0.08183641, -0.02839206, -0.13676353,\n",
       "          -0.07788905,  0.01855293, -0.04099754,  0.01628164,\n",
       "          -0.04943735, -0.08894807,  0.00654913,  0.0664931 ,\n",
       "           0.13189329,  0.13928269,  0.03414534, -0.06113735,\n",
       "          -0.06841627,  0.07383915, -0.11656874,  0.00251522]],\n",
       "\n",
       "        [[-0.04169192,  0.06462142, -0.05647737, -0.05054453,\n",
       "          -0.09406275, -0.0149708 , -0.02216128,  0.12510854,\n",
       "          -0.07857632, -0.1227773 ,  0.08882531, -0.11684454,\n",
       "          -0.13261789,  0.03904113,  0.11360946,  0.12441524,\n",
       "          -0.1412831 ,  0.02350783, -0.02811128,  0.07577685,\n",
       "           0.08181658,  0.00535886,  0.06758586, -0.02740814,\n",
       "          -0.01655002,  0.02105229,  0.02556808, -0.05313135,\n",
       "          -0.03860885, -0.11866187, -0.05920656,  0.05167064]],\n",
       "\n",
       "        [[ 0.13986816, -0.00985492,  0.06297661, -0.13005437,\n",
       "           0.0870875 , -0.09451618, -0.00836602,  0.11403183,\n",
       "          -0.02911101,  0.11264478, -0.11045689, -0.12970111,\n",
       "           0.05909356, -0.00793522,  0.08244164, -0.12527022,\n",
       "           0.09069566,  0.08499359, -0.00367673, -0.01168999,\n",
       "           0.04237473,  0.03165416,  0.01460893, -0.03097191,\n",
       "           0.08323116, -0.07196549,  0.12640515, -0.0515018 ,\n",
       "          -0.08888488,  0.0882573 , -0.01922939, -0.10281092]]]],\n",
       "      dtype=float32)"
      ]
     },
     "execution_count": 33,
     "metadata": {},
     "output_type": "execute_result"
    }
   ],
   "source": [
    "weights"
   ]
  },
  {
   "cell_type": "code",
   "execution_count": 34,
   "metadata": {},
   "outputs": [],
   "source": [
    "# weight_conv2d_1 = history.model.layers[0].get_weights()[0][:,:,0,:]\n",
    "\n",
    "weight_conv2d_2 = model.layers[4].get_weights()[0][:,:,3,:]"
   ]
  },
  {
   "cell_type": "code",
   "execution_count": 35,
   "metadata": {},
   "outputs": [
    {
     "data": {
      "image/png": "[encoded data removed]",
      "text/plain": [
       "<Figure size 864x576 with 30 Axes>"
      ]
     },
     "metadata": {},
     "output_type": "display_data"
    }
   ],
   "source": [
    "col_size = 6\n",
    "row_size = 5\n",
    "filter_index = 0\n",
    "fig, ax = plt.subplots(row_size, col_size, figsize=(12,8))\n",
    "for row in range(0,row_size): \n",
    "      for col in range(0,col_size):\n",
    "        ax[row][col].imshow(weight_conv2d_1[:,:,filter_index],cmap=\"gray\")\n",
    "        filter_index += 1"
   ]
  },
  {
   "cell_type": "code",
   "execution_count": null,
   "metadata": {},
   "outputs": [],
   "source": []
  }
 ],
 "metadata": {
  "kernelspec": {
   "display_name": "Python 3",
   "language": "python",
   "name": "python3"
  },
  "language_info": {
   "codemirror_mode": {
    "name": "ipython",
    "version": 3
   },
   "file_extension": ".py",
   "mimetype": "text/x-python",
   "name": "python",
   "nbconvert_exporter": "python",
   "pygments_lexer": "ipython3",
   "version": "3.6.5"
  }
 },
 "nbformat": 4,
 "nbformat_minor": 2
}
